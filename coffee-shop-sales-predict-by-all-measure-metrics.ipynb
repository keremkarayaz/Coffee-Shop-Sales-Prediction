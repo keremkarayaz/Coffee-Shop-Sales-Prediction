{
 "cells": [
  {
   "cell_type": "markdown",
   "id": "44b84237",
   "metadata": {
    "papermill": {
     "duration": 0.011776,
     "end_time": "2024-05-11T17:37:03.242447",
     "exception": false,
     "start_time": "2024-05-11T17:37:03.230671",
     "status": "completed"
    },
    "tags": []
   },
   "source": [
    "# Intro\n",
    "\n",
    "**This code snippet calculates and prints four common metrics used to evaluate the performance of a predictive model:**\n",
    "\n",
    "**Mean Squared Error (MSE):**\n",
    "\n",
    "**MSE measures the average squared difference between the actual and predicted values.\n",
    "Lower values indicate better model performance, with 0 being the best possible score.\n",
    "It's sensitive to outliers because of the squaring operation.\n",
    "Mean Absolute Error (MAE):**\n",
    "\n",
    "**MAE measures the average absolute difference between the actual and predicted values.\n",
    "Like MSE, lower values indicate better performance, with 0 being ideal.\n",
    "It's less sensitive to outliers compared to MSE because it doesn't involve squaring.\n",
    "Mean Absolute Percentage Error (MAPE):**\n",
    "\n",
    "**MAPE calculates the average percentage difference between the actual and predicted values.\n",
    "It's often used in forecasting to understand the accuracy of predictions relative to the actual values.\n",
    "Lower values are desirable, but MAPE has limitations, especially when actual values are close to zero.\n",
    "Root Mean Squared Error (RMSE):**\n",
    "\n",
    "**RMSE is the square root of the MSE.\n",
    "It's another measure of the differences between predicted and actual values, providing a similar interpretation to MAE but giving more weight to large errors.\n",
    "Like MSE, lower values indicate better model performance.\n",
    "These metrics help assess how well a model generalizes to new data and are crucial for comparing different models or tuning hyperparameters to improve performance.**"
   ]
  },
  {
   "cell_type": "markdown",
   "id": "eff2bdb2",
   "metadata": {
    "papermill": {
     "duration": 0.010212,
     "end_time": "2024-05-11T17:37:03.263487",
     "exception": false,
     "start_time": "2024-05-11T17:37:03.253275",
     "status": "completed"
    },
    "tags": []
   },
   "source": [
    "# 1. Import"
   ]
  },
  {
   "cell_type": "code",
   "execution_count": 1,
   "id": "566a2898",
   "metadata": {
    "execution": {
     "iopub.execute_input": "2024-05-11T17:37:03.287605Z",
     "iopub.status.busy": "2024-05-11T17:37:03.287133Z",
     "iopub.status.idle": "2024-05-11T17:37:05.425083Z",
     "shell.execute_reply": "2024-05-11T17:37:05.423269Z"
    },
    "papermill": {
     "duration": 2.153837,
     "end_time": "2024-05-11T17:37:05.428338",
     "exception": false,
     "start_time": "2024-05-11T17:37:03.274501",
     "status": "completed"
    },
    "tags": []
   },
   "outputs": [
    {
     "name": "stdout",
     "output_type": "stream",
     "text": [
      "/kaggle/input/coffee-shop-sales/Coffee Shop Sales.xlsx\n"
     ]
    }
   ],
   "source": [
    "# This Python 3 environment comes with many helpful analytics libraries installed\n",
    "# It is defined by the kaggle/python Docker image: https://github.com/kaggle/docker-python\n",
    "# For example, here's several helpful packages to load\n",
    "\n",
    "import numpy as np # linear algebra\n",
    "import pandas as pd # data processing, CSV file I/O (e.g. pd.read_csv)\n",
    "from sklearn.preprocessing import LabelEncoder,PowerTransformer\n",
    "\n",
    "# Input data files are available in the read-only \"../input/\" directory\n",
    "# For example, running this (by clicking run or pressing Shift+Enter) will list all files under the input directory\n",
    "\n",
    "import os\n",
    "for dirname, _, filenames in os.walk('/kaggle/input'):\n",
    "    for filename in filenames:\n",
    "        print(os.path.join(dirname, filename))\n",
    "\n",
    "# You can write up to 20GB to the current directory (/kaggle/working/) that gets preserved as output when you create a version using \"Save & Run All\" \n",
    "# You can also write temporary files to /kaggle/temp/, but they won't be saved outside of the current session"
   ]
  },
  {
   "cell_type": "code",
   "execution_count": 2,
   "id": "683b61fa",
   "metadata": {
    "execution": {
     "iopub.execute_input": "2024-05-11T17:37:05.453837Z",
     "iopub.status.busy": "2024-05-11T17:37:05.452210Z",
     "iopub.status.idle": "2024-05-11T17:37:45.780799Z",
     "shell.execute_reply": "2024-05-11T17:37:45.779300Z"
    },
    "papermill": {
     "duration": 40.355472,
     "end_time": "2024-05-11T17:37:45.794821",
     "exception": false,
     "start_time": "2024-05-11T17:37:05.439349",
     "status": "completed"
    },
    "tags": []
   },
   "outputs": [
    {
     "data": {
      "text/html": [
       "<div>\n",
       "<style scoped>\n",
       "    .dataframe tbody tr th:only-of-type {\n",
       "        vertical-align: middle;\n",
       "    }\n",
       "\n",
       "    .dataframe tbody tr th {\n",
       "        vertical-align: top;\n",
       "    }\n",
       "\n",
       "    .dataframe thead th {\n",
       "        text-align: right;\n",
       "    }\n",
       "</style>\n",
       "<table border=\"1\" class=\"dataframe\">\n",
       "  <thead>\n",
       "    <tr style=\"text-align: right;\">\n",
       "      <th></th>\n",
       "      <th>transaction_id</th>\n",
       "      <th>transaction_date</th>\n",
       "      <th>transaction_time</th>\n",
       "      <th>transaction_qty</th>\n",
       "      <th>store_id</th>\n",
       "      <th>store_location</th>\n",
       "      <th>product_id</th>\n",
       "      <th>unit_price</th>\n",
       "      <th>product_category</th>\n",
       "      <th>product_type</th>\n",
       "      <th>product_detail</th>\n",
       "    </tr>\n",
       "  </thead>\n",
       "  <tbody>\n",
       "    <tr>\n",
       "      <th>0</th>\n",
       "      <td>1</td>\n",
       "      <td>2023-01-01</td>\n",
       "      <td>07:06:11</td>\n",
       "      <td>2</td>\n",
       "      <td>5</td>\n",
       "      <td>Lower Manhattan</td>\n",
       "      <td>32</td>\n",
       "      <td>3.00</td>\n",
       "      <td>Coffee</td>\n",
       "      <td>Gourmet brewed coffee</td>\n",
       "      <td>Ethiopia Rg</td>\n",
       "    </tr>\n",
       "    <tr>\n",
       "      <th>1</th>\n",
       "      <td>2</td>\n",
       "      <td>2023-01-01</td>\n",
       "      <td>07:08:56</td>\n",
       "      <td>2</td>\n",
       "      <td>5</td>\n",
       "      <td>Lower Manhattan</td>\n",
       "      <td>57</td>\n",
       "      <td>3.10</td>\n",
       "      <td>Tea</td>\n",
       "      <td>Brewed Chai tea</td>\n",
       "      <td>Spicy Eye Opener Chai Lg</td>\n",
       "    </tr>\n",
       "    <tr>\n",
       "      <th>2</th>\n",
       "      <td>3</td>\n",
       "      <td>2023-01-01</td>\n",
       "      <td>07:14:04</td>\n",
       "      <td>2</td>\n",
       "      <td>5</td>\n",
       "      <td>Lower Manhattan</td>\n",
       "      <td>59</td>\n",
       "      <td>4.50</td>\n",
       "      <td>Drinking Chocolate</td>\n",
       "      <td>Hot chocolate</td>\n",
       "      <td>Dark chocolate Lg</td>\n",
       "    </tr>\n",
       "    <tr>\n",
       "      <th>3</th>\n",
       "      <td>4</td>\n",
       "      <td>2023-01-01</td>\n",
       "      <td>07:20:24</td>\n",
       "      <td>1</td>\n",
       "      <td>5</td>\n",
       "      <td>Lower Manhattan</td>\n",
       "      <td>22</td>\n",
       "      <td>2.00</td>\n",
       "      <td>Coffee</td>\n",
       "      <td>Drip coffee</td>\n",
       "      <td>Our Old Time Diner Blend Sm</td>\n",
       "    </tr>\n",
       "    <tr>\n",
       "      <th>4</th>\n",
       "      <td>5</td>\n",
       "      <td>2023-01-01</td>\n",
       "      <td>07:22:41</td>\n",
       "      <td>2</td>\n",
       "      <td>5</td>\n",
       "      <td>Lower Manhattan</td>\n",
       "      <td>57</td>\n",
       "      <td>3.10</td>\n",
       "      <td>Tea</td>\n",
       "      <td>Brewed Chai tea</td>\n",
       "      <td>Spicy Eye Opener Chai Lg</td>\n",
       "    </tr>\n",
       "    <tr>\n",
       "      <th>...</th>\n",
       "      <td>...</td>\n",
       "      <td>...</td>\n",
       "      <td>...</td>\n",
       "      <td>...</td>\n",
       "      <td>...</td>\n",
       "      <td>...</td>\n",
       "      <td>...</td>\n",
       "      <td>...</td>\n",
       "      <td>...</td>\n",
       "      <td>...</td>\n",
       "      <td>...</td>\n",
       "    </tr>\n",
       "    <tr>\n",
       "      <th>149111</th>\n",
       "      <td>149452</td>\n",
       "      <td>2023-06-30</td>\n",
       "      <td>20:18:41</td>\n",
       "      <td>2</td>\n",
       "      <td>8</td>\n",
       "      <td>Hell's Kitchen</td>\n",
       "      <td>44</td>\n",
       "      <td>2.50</td>\n",
       "      <td>Tea</td>\n",
       "      <td>Brewed herbal tea</td>\n",
       "      <td>Peppermint Rg</td>\n",
       "    </tr>\n",
       "    <tr>\n",
       "      <th>149112</th>\n",
       "      <td>149453</td>\n",
       "      <td>2023-06-30</td>\n",
       "      <td>20:25:10</td>\n",
       "      <td>2</td>\n",
       "      <td>8</td>\n",
       "      <td>Hell's Kitchen</td>\n",
       "      <td>49</td>\n",
       "      <td>3.00</td>\n",
       "      <td>Tea</td>\n",
       "      <td>Brewed Black tea</td>\n",
       "      <td>English Breakfast Lg</td>\n",
       "    </tr>\n",
       "    <tr>\n",
       "      <th>149113</th>\n",
       "      <td>149454</td>\n",
       "      <td>2023-06-30</td>\n",
       "      <td>20:31:34</td>\n",
       "      <td>1</td>\n",
       "      <td>8</td>\n",
       "      <td>Hell's Kitchen</td>\n",
       "      <td>45</td>\n",
       "      <td>3.00</td>\n",
       "      <td>Tea</td>\n",
       "      <td>Brewed herbal tea</td>\n",
       "      <td>Peppermint Lg</td>\n",
       "    </tr>\n",
       "    <tr>\n",
       "      <th>149114</th>\n",
       "      <td>149455</td>\n",
       "      <td>2023-06-30</td>\n",
       "      <td>20:57:19</td>\n",
       "      <td>1</td>\n",
       "      <td>8</td>\n",
       "      <td>Hell's Kitchen</td>\n",
       "      <td>40</td>\n",
       "      <td>3.75</td>\n",
       "      <td>Coffee</td>\n",
       "      <td>Barista Espresso</td>\n",
       "      <td>Cappuccino</td>\n",
       "    </tr>\n",
       "    <tr>\n",
       "      <th>149115</th>\n",
       "      <td>149456</td>\n",
       "      <td>2023-06-30</td>\n",
       "      <td>20:57:19</td>\n",
       "      <td>2</td>\n",
       "      <td>8</td>\n",
       "      <td>Hell's Kitchen</td>\n",
       "      <td>64</td>\n",
       "      <td>0.80</td>\n",
       "      <td>Flavours</td>\n",
       "      <td>Regular syrup</td>\n",
       "      <td>Hazelnut syrup</td>\n",
       "    </tr>\n",
       "  </tbody>\n",
       "</table>\n",
       "<p>149116 rows × 11 columns</p>\n",
       "</div>"
      ],
      "text/plain": [
       "        transaction_id transaction_date transaction_time  transaction_qty  \\\n",
       "0                    1       2023-01-01         07:06:11                2   \n",
       "1                    2       2023-01-01         07:08:56                2   \n",
       "2                    3       2023-01-01         07:14:04                2   \n",
       "3                    4       2023-01-01         07:20:24                1   \n",
       "4                    5       2023-01-01         07:22:41                2   \n",
       "...                ...              ...              ...              ...   \n",
       "149111          149452       2023-06-30         20:18:41                2   \n",
       "149112          149453       2023-06-30         20:25:10                2   \n",
       "149113          149454       2023-06-30         20:31:34                1   \n",
       "149114          149455       2023-06-30         20:57:19                1   \n",
       "149115          149456       2023-06-30         20:57:19                2   \n",
       "\n",
       "        store_id   store_location  product_id  unit_price    product_category  \\\n",
       "0              5  Lower Manhattan          32        3.00              Coffee   \n",
       "1              5  Lower Manhattan          57        3.10                 Tea   \n",
       "2              5  Lower Manhattan          59        4.50  Drinking Chocolate   \n",
       "3              5  Lower Manhattan          22        2.00              Coffee   \n",
       "4              5  Lower Manhattan          57        3.10                 Tea   \n",
       "...          ...              ...         ...         ...                 ...   \n",
       "149111         8   Hell's Kitchen          44        2.50                 Tea   \n",
       "149112         8   Hell's Kitchen          49        3.00                 Tea   \n",
       "149113         8   Hell's Kitchen          45        3.00                 Tea   \n",
       "149114         8   Hell's Kitchen          40        3.75              Coffee   \n",
       "149115         8   Hell's Kitchen          64        0.80            Flavours   \n",
       "\n",
       "                 product_type               product_detail  \n",
       "0       Gourmet brewed coffee                  Ethiopia Rg  \n",
       "1             Brewed Chai tea     Spicy Eye Opener Chai Lg  \n",
       "2               Hot chocolate            Dark chocolate Lg  \n",
       "3                 Drip coffee  Our Old Time Diner Blend Sm  \n",
       "4             Brewed Chai tea     Spicy Eye Opener Chai Lg  \n",
       "...                       ...                          ...  \n",
       "149111      Brewed herbal tea                Peppermint Rg  \n",
       "149112       Brewed Black tea         English Breakfast Lg  \n",
       "149113      Brewed herbal tea                Peppermint Lg  \n",
       "149114       Barista Espresso                   Cappuccino  \n",
       "149115          Regular syrup               Hazelnut syrup  \n",
       "\n",
       "[149116 rows x 11 columns]"
      ]
     },
     "execution_count": 2,
     "metadata": {},
     "output_type": "execute_result"
    }
   ],
   "source": [
    "df = pd.read_excel(\"/kaggle/input/coffee-shop-sales/Coffee Shop Sales.xlsx\")\n",
    "df"
   ]
  },
  {
   "cell_type": "markdown",
   "id": "603d1797",
   "metadata": {
    "papermill": {
     "duration": 0.010975,
     "end_time": "2024-05-11T17:37:45.817133",
     "exception": false,
     "start_time": "2024-05-11T17:37:45.806158",
     "status": "completed"
    },
    "tags": []
   },
   "source": [
    "# 2. Check Null Values And Duplicate Values"
   ]
  },
  {
   "cell_type": "code",
   "execution_count": 3,
   "id": "ce5e5a7b",
   "metadata": {
    "execution": {
     "iopub.execute_input": "2024-05-11T17:37:45.843031Z",
     "iopub.status.busy": "2024-05-11T17:37:45.842518Z",
     "iopub.status.idle": "2024-05-11T17:37:45.933674Z",
     "shell.execute_reply": "2024-05-11T17:37:45.932409Z"
    },
    "papermill": {
     "duration": 0.108337,
     "end_time": "2024-05-11T17:37:45.936889",
     "exception": false,
     "start_time": "2024-05-11T17:37:45.828552",
     "status": "completed"
    },
    "tags": []
   },
   "outputs": [
    {
     "data": {
      "text/plain": [
       "transaction_id      0\n",
       "transaction_date    0\n",
       "transaction_time    0\n",
       "transaction_qty     0\n",
       "store_id            0\n",
       "store_location      0\n",
       "product_id          0\n",
       "unit_price          0\n",
       "product_category    0\n",
       "product_type        0\n",
       "product_detail      0\n",
       "dtype: int64"
      ]
     },
     "execution_count": 3,
     "metadata": {},
     "output_type": "execute_result"
    }
   ],
   "source": [
    "df.isnull().sum()"
   ]
  },
  {
   "cell_type": "code",
   "execution_count": 4,
   "id": "1ded1325",
   "metadata": {
    "execution": {
     "iopub.execute_input": "2024-05-11T17:37:45.962753Z",
     "iopub.status.busy": "2024-05-11T17:37:45.962286Z",
     "iopub.status.idle": "2024-05-11T17:37:46.117951Z",
     "shell.execute_reply": "2024-05-11T17:37:46.116338Z"
    },
    "papermill": {
     "duration": 0.17225,
     "end_time": "2024-05-11T17:37:46.120735",
     "exception": false,
     "start_time": "2024-05-11T17:37:45.948485",
     "status": "completed"
    },
    "tags": []
   },
   "outputs": [
    {
     "data": {
      "text/plain": [
       "0"
      ]
     },
     "execution_count": 4,
     "metadata": {},
     "output_type": "execute_result"
    }
   ],
   "source": [
    "df.duplicated().sum()"
   ]
  },
  {
   "cell_type": "markdown",
   "id": "eb190f6b",
   "metadata": {
    "papermill": {
     "duration": 0.011598,
     "end_time": "2024-05-11T17:37:46.143979",
     "exception": false,
     "start_time": "2024-05-11T17:37:46.132381",
     "status": "completed"
    },
    "tags": []
   },
   "source": [
    "# 3. Preparing Data"
   ]
  },
  {
   "cell_type": "code",
   "execution_count": 5,
   "id": "fcc8cf7c",
   "metadata": {
    "execution": {
     "iopub.execute_input": "2024-05-11T17:37:46.169167Z",
     "iopub.status.busy": "2024-05-11T17:37:46.168696Z",
     "iopub.status.idle": "2024-05-11T17:37:46.203104Z",
     "shell.execute_reply": "2024-05-11T17:37:46.201608Z"
    },
    "papermill": {
     "duration": 0.050327,
     "end_time": "2024-05-11T17:37:46.205856",
     "exception": false,
     "start_time": "2024-05-11T17:37:46.155529",
     "status": "completed"
    },
    "tags": []
   },
   "outputs": [
    {
     "data": {
      "text/html": [
       "<div>\n",
       "<style scoped>\n",
       "    .dataframe tbody tr th:only-of-type {\n",
       "        vertical-align: middle;\n",
       "    }\n",
       "\n",
       "    .dataframe tbody tr th {\n",
       "        vertical-align: top;\n",
       "    }\n",
       "\n",
       "    .dataframe thead th {\n",
       "        text-align: right;\n",
       "    }\n",
       "</style>\n",
       "<table border=\"1\" class=\"dataframe\">\n",
       "  <thead>\n",
       "    <tr style=\"text-align: right;\">\n",
       "      <th></th>\n",
       "      <th>transaction_date</th>\n",
       "      <th>transaction_time</th>\n",
       "      <th>transaction_qty</th>\n",
       "      <th>store_location</th>\n",
       "      <th>unit_price</th>\n",
       "      <th>product_category</th>\n",
       "      <th>product_type</th>\n",
       "      <th>product_detail</th>\n",
       "    </tr>\n",
       "  </thead>\n",
       "  <tbody>\n",
       "    <tr>\n",
       "      <th>0</th>\n",
       "      <td>2023-01-01</td>\n",
       "      <td>07:06:11</td>\n",
       "      <td>2</td>\n",
       "      <td>Lower Manhattan</td>\n",
       "      <td>3.0</td>\n",
       "      <td>Coffee</td>\n",
       "      <td>Gourmet brewed coffee</td>\n",
       "      <td>Ethiopia Rg</td>\n",
       "    </tr>\n",
       "    <tr>\n",
       "      <th>1</th>\n",
       "      <td>2023-01-01</td>\n",
       "      <td>07:08:56</td>\n",
       "      <td>2</td>\n",
       "      <td>Lower Manhattan</td>\n",
       "      <td>3.1</td>\n",
       "      <td>Tea</td>\n",
       "      <td>Brewed Chai tea</td>\n",
       "      <td>Spicy Eye Opener Chai Lg</td>\n",
       "    </tr>\n",
       "    <tr>\n",
       "      <th>2</th>\n",
       "      <td>2023-01-01</td>\n",
       "      <td>07:14:04</td>\n",
       "      <td>2</td>\n",
       "      <td>Lower Manhattan</td>\n",
       "      <td>4.5</td>\n",
       "      <td>Drinking Chocolate</td>\n",
       "      <td>Hot chocolate</td>\n",
       "      <td>Dark chocolate Lg</td>\n",
       "    </tr>\n",
       "    <tr>\n",
       "      <th>3</th>\n",
       "      <td>2023-01-01</td>\n",
       "      <td>07:20:24</td>\n",
       "      <td>1</td>\n",
       "      <td>Lower Manhattan</td>\n",
       "      <td>2.0</td>\n",
       "      <td>Coffee</td>\n",
       "      <td>Drip coffee</td>\n",
       "      <td>Our Old Time Diner Blend Sm</td>\n",
       "    </tr>\n",
       "    <tr>\n",
       "      <th>4</th>\n",
       "      <td>2023-01-01</td>\n",
       "      <td>07:22:41</td>\n",
       "      <td>2</td>\n",
       "      <td>Lower Manhattan</td>\n",
       "      <td>3.1</td>\n",
       "      <td>Tea</td>\n",
       "      <td>Brewed Chai tea</td>\n",
       "      <td>Spicy Eye Opener Chai Lg</td>\n",
       "    </tr>\n",
       "  </tbody>\n",
       "</table>\n",
       "</div>"
      ],
      "text/plain": [
       "  transaction_date transaction_time  transaction_qty   store_location  \\\n",
       "0       2023-01-01         07:06:11                2  Lower Manhattan   \n",
       "1       2023-01-01         07:08:56                2  Lower Manhattan   \n",
       "2       2023-01-01         07:14:04                2  Lower Manhattan   \n",
       "3       2023-01-01         07:20:24                1  Lower Manhattan   \n",
       "4       2023-01-01         07:22:41                2  Lower Manhattan   \n",
       "\n",
       "   unit_price    product_category           product_type  \\\n",
       "0         3.0              Coffee  Gourmet brewed coffee   \n",
       "1         3.1                 Tea        Brewed Chai tea   \n",
       "2         4.5  Drinking Chocolate          Hot chocolate   \n",
       "3         2.0              Coffee            Drip coffee   \n",
       "4         3.1                 Tea        Brewed Chai tea   \n",
       "\n",
       "                product_detail  \n",
       "0                  Ethiopia Rg  \n",
       "1     Spicy Eye Opener Chai Lg  \n",
       "2            Dark chocolate Lg  \n",
       "3  Our Old Time Diner Blend Sm  \n",
       "4     Spicy Eye Opener Chai Lg  "
      ]
     },
     "execution_count": 5,
     "metadata": {},
     "output_type": "execute_result"
    }
   ],
   "source": [
    "df.drop(columns=[\"store_id\", \"transaction_id\",\"product_id\"], inplace=True)\n",
    "df.head()"
   ]
  },
  {
   "cell_type": "code",
   "execution_count": 6,
   "id": "c7cd7277",
   "metadata": {
    "execution": {
     "iopub.execute_input": "2024-05-11T17:37:46.232620Z",
     "iopub.status.busy": "2024-05-11T17:37:46.231369Z",
     "iopub.status.idle": "2024-05-11T17:37:46.241978Z",
     "shell.execute_reply": "2024-05-11T17:37:46.240397Z"
    },
    "papermill": {
     "duration": 0.026966,
     "end_time": "2024-05-11T17:37:46.244840",
     "exception": false,
     "start_time": "2024-05-11T17:37:46.217874",
     "status": "completed"
    },
    "tags": []
   },
   "outputs": [
    {
     "data": {
      "text/plain": [
       "transaction_date    datetime64[ns]\n",
       "transaction_time            object\n",
       "transaction_qty              int64\n",
       "store_location              object\n",
       "unit_price                 float64\n",
       "product_category            object\n",
       "product_type                object\n",
       "product_detail              object\n",
       "dtype: object"
      ]
     },
     "execution_count": 6,
     "metadata": {},
     "output_type": "execute_result"
    }
   ],
   "source": [
    "df.dtypes"
   ]
  },
  {
   "cell_type": "code",
   "execution_count": 7,
   "id": "b49cf3d9",
   "metadata": {
    "execution": {
     "iopub.execute_input": "2024-05-11T17:37:46.272156Z",
     "iopub.status.busy": "2024-05-11T17:37:46.271725Z",
     "iopub.status.idle": "2024-05-11T17:37:46.305311Z",
     "shell.execute_reply": "2024-05-11T17:37:46.304174Z"
    },
    "papermill": {
     "duration": 0.050525,
     "end_time": "2024-05-11T17:37:46.307961",
     "exception": false,
     "start_time": "2024-05-11T17:37:46.257436",
     "status": "completed"
    },
    "tags": []
   },
   "outputs": [
    {
     "data": {
      "text/plain": [
       "product_category\n",
       "Coffee                58416\n",
       "Tea                   45449\n",
       "Bakery                22796\n",
       "Drinking Chocolate    11468\n",
       "Flavours               6790\n",
       "Coffee beans           1753\n",
       "Loose Tea              1210\n",
       "Branded                 747\n",
       "Packaged Chocolate      487\n",
       "Name: count, dtype: int64"
      ]
     },
     "execution_count": 7,
     "metadata": {},
     "output_type": "execute_result"
    }
   ],
   "source": [
    "df[\"product_category\"].value_counts()"
   ]
  },
  {
   "cell_type": "code",
   "execution_count": 8,
   "id": "247ad903",
   "metadata": {
    "execution": {
     "iopub.execute_input": "2024-05-11T17:37:46.336799Z",
     "iopub.status.busy": "2024-05-11T17:37:46.336403Z",
     "iopub.status.idle": "2024-05-11T17:37:46.518572Z",
     "shell.execute_reply": "2024-05-11T17:37:46.517356Z"
    },
    "papermill": {
     "duration": 0.199756,
     "end_time": "2024-05-11T17:37:46.521323",
     "exception": false,
     "start_time": "2024-05-11T17:37:46.321567",
     "status": "completed"
    },
    "tags": []
   },
   "outputs": [
    {
     "data": {
      "text/html": [
       "<div>\n",
       "<style scoped>\n",
       "    .dataframe tbody tr th:only-of-type {\n",
       "        vertical-align: middle;\n",
       "    }\n",
       "\n",
       "    .dataframe tbody tr th {\n",
       "        vertical-align: top;\n",
       "    }\n",
       "\n",
       "    .dataframe thead th {\n",
       "        text-align: right;\n",
       "    }\n",
       "</style>\n",
       "<table border=\"1\" class=\"dataframe\">\n",
       "  <thead>\n",
       "    <tr style=\"text-align: right;\">\n",
       "      <th></th>\n",
       "      <th>transaction_date</th>\n",
       "      <th>transaction_time</th>\n",
       "      <th>transaction_qty</th>\n",
       "      <th>store_location</th>\n",
       "      <th>unit_price</th>\n",
       "      <th>product_category</th>\n",
       "      <th>product_type</th>\n",
       "      <th>product_detail</th>\n",
       "    </tr>\n",
       "  </thead>\n",
       "  <tbody>\n",
       "    <tr>\n",
       "      <th>0</th>\n",
       "      <td>2023-01-01</td>\n",
       "      <td>07:06:11</td>\n",
       "      <td>2</td>\n",
       "      <td>2</td>\n",
       "      <td>3.0</td>\n",
       "      <td>2</td>\n",
       "      <td>13</td>\n",
       "      <td>32</td>\n",
       "    </tr>\n",
       "    <tr>\n",
       "      <th>1</th>\n",
       "      <td>2023-01-01</td>\n",
       "      <td>07:08:56</td>\n",
       "      <td>2</td>\n",
       "      <td>2</td>\n",
       "      <td>3.1</td>\n",
       "      <td>8</td>\n",
       "      <td>4</td>\n",
       "      <td>71</td>\n",
       "    </tr>\n",
       "    <tr>\n",
       "      <th>2</th>\n",
       "      <td>2023-01-01</td>\n",
       "      <td>07:14:04</td>\n",
       "      <td>2</td>\n",
       "      <td>2</td>\n",
       "      <td>4.5</td>\n",
       "      <td>4</td>\n",
       "      <td>17</td>\n",
       "      <td>20</td>\n",
       "    </tr>\n",
       "    <tr>\n",
       "      <th>3</th>\n",
       "      <td>2023-01-01</td>\n",
       "      <td>07:20:24</td>\n",
       "      <td>1</td>\n",
       "      <td>2</td>\n",
       "      <td>2.0</td>\n",
       "      <td>2</td>\n",
       "      <td>10</td>\n",
       "      <td>60</td>\n",
       "    </tr>\n",
       "    <tr>\n",
       "      <th>4</th>\n",
       "      <td>2023-01-01</td>\n",
       "      <td>07:22:41</td>\n",
       "      <td>2</td>\n",
       "      <td>2</td>\n",
       "      <td>3.1</td>\n",
       "      <td>8</td>\n",
       "      <td>4</td>\n",
       "      <td>71</td>\n",
       "    </tr>\n",
       "  </tbody>\n",
       "</table>\n",
       "</div>"
      ],
      "text/plain": [
       "  transaction_date transaction_time  transaction_qty  store_location  \\\n",
       "0       2023-01-01         07:06:11                2               2   \n",
       "1       2023-01-01         07:08:56                2               2   \n",
       "2       2023-01-01         07:14:04                2               2   \n",
       "3       2023-01-01         07:20:24                1               2   \n",
       "4       2023-01-01         07:22:41                2               2   \n",
       "\n",
       "   unit_price  product_category  product_type  product_detail  \n",
       "0         3.0                 2            13              32  \n",
       "1         3.1                 8             4              71  \n",
       "2         4.5                 4            17              20  \n",
       "3         2.0                 2            10              60  \n",
       "4         3.1                 8             4              71  "
      ]
     },
     "execution_count": 8,
     "metadata": {},
     "output_type": "execute_result"
    }
   ],
   "source": [
    "encoder = LabelEncoder()\n",
    "df[\"product_category\"]=encoder.fit_transform(df[\"product_category\"])\n",
    "df[\"product_type\"]=encoder.fit_transform(df[\"product_type\"])\n",
    "df[\"product_detail\"]=encoder.fit_transform(df[\"product_detail\"])\n",
    "df[\"store_location\"]=encoder.fit_transform(df[\"store_location\"])\n",
    "df.head()"
   ]
  },
  {
   "cell_type": "code",
   "execution_count": 9,
   "id": "d56b61ef",
   "metadata": {
    "execution": {
     "iopub.execute_input": "2024-05-11T17:37:46.549054Z",
     "iopub.status.busy": "2024-05-11T17:37:46.548635Z",
     "iopub.status.idle": "2024-05-11T17:37:46.558024Z",
     "shell.execute_reply": "2024-05-11T17:37:46.556644Z"
    },
    "papermill": {
     "duration": 0.026161,
     "end_time": "2024-05-11T17:37:46.560702",
     "exception": false,
     "start_time": "2024-05-11T17:37:46.534541",
     "status": "completed"
    },
    "tags": []
   },
   "outputs": [
    {
     "data": {
      "text/plain": [
       "transaction_date    datetime64[ns]\n",
       "transaction_time            object\n",
       "transaction_qty              int64\n",
       "store_location               int64\n",
       "unit_price                 float64\n",
       "product_category             int64\n",
       "product_type                 int64\n",
       "product_detail               int64\n",
       "dtype: object"
      ]
     },
     "execution_count": 9,
     "metadata": {},
     "output_type": "execute_result"
    }
   ],
   "source": [
    "df.dtypes"
   ]
  },
  {
   "cell_type": "code",
   "execution_count": 10,
   "id": "80bcf064",
   "metadata": {
    "execution": {
     "iopub.execute_input": "2024-05-11T17:37:46.588863Z",
     "iopub.status.busy": "2024-05-11T17:37:46.588437Z",
     "iopub.status.idle": "2024-05-11T17:37:46.827827Z",
     "shell.execute_reply": "2024-05-11T17:37:46.826625Z"
    },
    "papermill": {
     "duration": 0.256619,
     "end_time": "2024-05-11T17:37:46.830470",
     "exception": false,
     "start_time": "2024-05-11T17:37:46.573851",
     "status": "completed"
    },
    "tags": []
   },
   "outputs": [
    {
     "data": {
      "text/html": [
       "<div>\n",
       "<style scoped>\n",
       "    .dataframe tbody tr th:only-of-type {\n",
       "        vertical-align: middle;\n",
       "    }\n",
       "\n",
       "    .dataframe tbody tr th {\n",
       "        vertical-align: top;\n",
       "    }\n",
       "\n",
       "    .dataframe thead th {\n",
       "        text-align: right;\n",
       "    }\n",
       "</style>\n",
       "<table border=\"1\" class=\"dataframe\">\n",
       "  <thead>\n",
       "    <tr style=\"text-align: right;\">\n",
       "      <th></th>\n",
       "      <th>transaction_date</th>\n",
       "      <th>transaction_qty</th>\n",
       "      <th>store_location</th>\n",
       "      <th>unit_price</th>\n",
       "      <th>product_category</th>\n",
       "      <th>product_type</th>\n",
       "      <th>product_detail</th>\n",
       "    </tr>\n",
       "  </thead>\n",
       "  <tbody>\n",
       "    <tr>\n",
       "      <th>0</th>\n",
       "      <td>2023-01-01</td>\n",
       "      <td>2</td>\n",
       "      <td>2</td>\n",
       "      <td>3.0</td>\n",
       "      <td>2</td>\n",
       "      <td>13</td>\n",
       "      <td>32</td>\n",
       "    </tr>\n",
       "    <tr>\n",
       "      <th>1</th>\n",
       "      <td>2023-01-01</td>\n",
       "      <td>2</td>\n",
       "      <td>2</td>\n",
       "      <td>3.1</td>\n",
       "      <td>8</td>\n",
       "      <td>4</td>\n",
       "      <td>71</td>\n",
       "    </tr>\n",
       "    <tr>\n",
       "      <th>2</th>\n",
       "      <td>2023-01-01</td>\n",
       "      <td>2</td>\n",
       "      <td>2</td>\n",
       "      <td>4.5</td>\n",
       "      <td>4</td>\n",
       "      <td>17</td>\n",
       "      <td>20</td>\n",
       "    </tr>\n",
       "    <tr>\n",
       "      <th>3</th>\n",
       "      <td>2023-01-01</td>\n",
       "      <td>1</td>\n",
       "      <td>2</td>\n",
       "      <td>2.0</td>\n",
       "      <td>2</td>\n",
       "      <td>10</td>\n",
       "      <td>60</td>\n",
       "    </tr>\n",
       "    <tr>\n",
       "      <th>4</th>\n",
       "      <td>2023-01-01</td>\n",
       "      <td>2</td>\n",
       "      <td>2</td>\n",
       "      <td>3.1</td>\n",
       "      <td>8</td>\n",
       "      <td>4</td>\n",
       "      <td>71</td>\n",
       "    </tr>\n",
       "  </tbody>\n",
       "</table>\n",
       "</div>"
      ],
      "text/plain": [
       "  transaction_date  transaction_qty  store_location  unit_price  \\\n",
       "0       2023-01-01                2               2         3.0   \n",
       "1       2023-01-01                2               2         3.1   \n",
       "2       2023-01-01                2               2         4.5   \n",
       "3       2023-01-01                1               2         2.0   \n",
       "4       2023-01-01                2               2         3.1   \n",
       "\n",
       "   product_category  product_type  product_detail  \n",
       "0                 2            13              32  \n",
       "1                 8             4              71  \n",
       "2                 4            17              20  \n",
       "3                 2            10              60  \n",
       "4                 8             4              71  "
      ]
     },
     "execution_count": 10,
     "metadata": {},
     "output_type": "execute_result"
    }
   ],
   "source": [
    "from sklearn.model_selection import train_test_split\n",
    "from sklearn.linear_model import LogisticRegression\n",
    "from sklearn.preprocessing import StandardScaler\n",
    "from datetime import datetime\n",
    "\n",
    "df.drop(columns=[\"transaction_time\"], inplace=True)\n",
    "df.head()"
   ]
  },
  {
   "cell_type": "code",
   "execution_count": 11,
   "id": "1ae70a77",
   "metadata": {
    "execution": {
     "iopub.execute_input": "2024-05-11T17:37:46.858896Z",
     "iopub.status.busy": "2024-05-11T17:37:46.858408Z",
     "iopub.status.idle": "2024-05-11T17:37:46.907603Z",
     "shell.execute_reply": "2024-05-11T17:37:46.906170Z"
    },
    "papermill": {
     "duration": 0.066947,
     "end_time": "2024-05-11T17:37:46.910497",
     "exception": false,
     "start_time": "2024-05-11T17:37:46.843550",
     "status": "completed"
    },
    "tags": []
   },
   "outputs": [
    {
     "data": {
      "text/html": [
       "<div>\n",
       "<style scoped>\n",
       "    .dataframe tbody tr th:only-of-type {\n",
       "        vertical-align: middle;\n",
       "    }\n",
       "\n",
       "    .dataframe tbody tr th {\n",
       "        vertical-align: top;\n",
       "    }\n",
       "\n",
       "    .dataframe thead th {\n",
       "        text-align: right;\n",
       "    }\n",
       "</style>\n",
       "<table border=\"1\" class=\"dataframe\">\n",
       "  <thead>\n",
       "    <tr style=\"text-align: right;\">\n",
       "      <th></th>\n",
       "      <th>transaction_qty</th>\n",
       "      <th>store_location</th>\n",
       "      <th>unit_price</th>\n",
       "      <th>product_category</th>\n",
       "      <th>product_type</th>\n",
       "      <th>product_detail</th>\n",
       "      <th>year</th>\n",
       "      <th>month</th>\n",
       "      <th>day</th>\n",
       "    </tr>\n",
       "  </thead>\n",
       "  <tbody>\n",
       "    <tr>\n",
       "      <th>0</th>\n",
       "      <td>2</td>\n",
       "      <td>2</td>\n",
       "      <td>3.0</td>\n",
       "      <td>2</td>\n",
       "      <td>13</td>\n",
       "      <td>32</td>\n",
       "      <td>2023</td>\n",
       "      <td>1</td>\n",
       "      <td>1</td>\n",
       "    </tr>\n",
       "    <tr>\n",
       "      <th>1</th>\n",
       "      <td>2</td>\n",
       "      <td>2</td>\n",
       "      <td>3.1</td>\n",
       "      <td>8</td>\n",
       "      <td>4</td>\n",
       "      <td>71</td>\n",
       "      <td>2023</td>\n",
       "      <td>1</td>\n",
       "      <td>1</td>\n",
       "    </tr>\n",
       "    <tr>\n",
       "      <th>2</th>\n",
       "      <td>2</td>\n",
       "      <td>2</td>\n",
       "      <td>4.5</td>\n",
       "      <td>4</td>\n",
       "      <td>17</td>\n",
       "      <td>20</td>\n",
       "      <td>2023</td>\n",
       "      <td>1</td>\n",
       "      <td>1</td>\n",
       "    </tr>\n",
       "    <tr>\n",
       "      <th>3</th>\n",
       "      <td>1</td>\n",
       "      <td>2</td>\n",
       "      <td>2.0</td>\n",
       "      <td>2</td>\n",
       "      <td>10</td>\n",
       "      <td>60</td>\n",
       "      <td>2023</td>\n",
       "      <td>1</td>\n",
       "      <td>1</td>\n",
       "    </tr>\n",
       "    <tr>\n",
       "      <th>4</th>\n",
       "      <td>2</td>\n",
       "      <td>2</td>\n",
       "      <td>3.1</td>\n",
       "      <td>8</td>\n",
       "      <td>4</td>\n",
       "      <td>71</td>\n",
       "      <td>2023</td>\n",
       "      <td>1</td>\n",
       "      <td>1</td>\n",
       "    </tr>\n",
       "  </tbody>\n",
       "</table>\n",
       "</div>"
      ],
      "text/plain": [
       "   transaction_qty  store_location  unit_price  product_category  \\\n",
       "0                2               2         3.0                 2   \n",
       "1                2               2         3.1                 8   \n",
       "2                2               2         4.5                 4   \n",
       "3                1               2         2.0                 2   \n",
       "4                2               2         3.1                 8   \n",
       "\n",
       "   product_type  product_detail  year  month  day  \n",
       "0            13              32  2023      1    1  \n",
       "1             4              71  2023      1    1  \n",
       "2            17              20  2023      1    1  \n",
       "3            10              60  2023      1    1  \n",
       "4             4              71  2023      1    1  "
      ]
     },
     "execution_count": 11,
     "metadata": {},
     "output_type": "execute_result"
    }
   ],
   "source": [
    "df['year'] = df['transaction_date'].dt.year\n",
    "df['month'] = df['transaction_date'].dt.month\n",
    "df['day'] = df['transaction_date'].dt.day\n",
    "df.drop(columns=[\"transaction_date\"], inplace=True)\n",
    "df.head()"
   ]
  },
  {
   "cell_type": "code",
   "execution_count": 12,
   "id": "ebd8323d",
   "metadata": {
    "execution": {
     "iopub.execute_input": "2024-05-11T17:37:46.940370Z",
     "iopub.status.busy": "2024-05-11T17:37:46.939898Z",
     "iopub.status.idle": "2024-05-11T17:37:46.950032Z",
     "shell.execute_reply": "2024-05-11T17:37:46.948792Z"
    },
    "papermill": {
     "duration": 0.028043,
     "end_time": "2024-05-11T17:37:46.952440",
     "exception": false,
     "start_time": "2024-05-11T17:37:46.924397",
     "status": "completed"
    },
    "tags": []
   },
   "outputs": [
    {
     "data": {
      "text/plain": [
       "transaction_qty       int64\n",
       "store_location        int64\n",
       "unit_price          float64\n",
       "product_category      int64\n",
       "product_type          int64\n",
       "product_detail        int64\n",
       "year                  int32\n",
       "month                 int32\n",
       "day                   int32\n",
       "dtype: object"
      ]
     },
     "execution_count": 12,
     "metadata": {},
     "output_type": "execute_result"
    }
   ],
   "source": [
    "df.dtypes"
   ]
  },
  {
   "cell_type": "markdown",
   "id": "d55f7872",
   "metadata": {
    "papermill": {
     "duration": 0.013686,
     "end_time": "2024-05-11T17:37:46.980000",
     "exception": false,
     "start_time": "2024-05-11T17:37:46.966314",
     "status": "completed"
    },
    "tags": []
   },
   "source": [
    "# 4. Processing Data"
   ]
  },
  {
   "cell_type": "code",
   "execution_count": 13,
   "id": "c02cd175",
   "metadata": {
    "execution": {
     "iopub.execute_input": "2024-05-11T17:37:47.009933Z",
     "iopub.status.busy": "2024-05-11T17:37:47.009505Z",
     "iopub.status.idle": "2024-05-11T17:37:47.026300Z",
     "shell.execute_reply": "2024-05-11T17:37:47.024938Z"
    },
    "papermill": {
     "duration": 0.035291,
     "end_time": "2024-05-11T17:37:47.029305",
     "exception": false,
     "start_time": "2024-05-11T17:37:46.994014",
     "status": "completed"
    },
    "tags": []
   },
   "outputs": [],
   "source": [
    "X=df[[\"transaction_qty\",\"store_location\",\"product_category\",\"product_type\",\"product_detail\",\"month\",\"day\",\"year\"]]\n",
    "y=df[\"unit_price\"]"
   ]
  },
  {
   "cell_type": "code",
   "execution_count": 14,
   "id": "81aad5bb",
   "metadata": {
    "execution": {
     "iopub.execute_input": "2024-05-11T17:37:47.060005Z",
     "iopub.status.busy": "2024-05-11T17:37:47.059577Z",
     "iopub.status.idle": "2024-05-11T17:37:47.108788Z",
     "shell.execute_reply": "2024-05-11T17:37:47.107350Z"
    },
    "papermill": {
     "duration": 0.068048,
     "end_time": "2024-05-11T17:37:47.111793",
     "exception": false,
     "start_time": "2024-05-11T17:37:47.043745",
     "status": "completed"
    },
    "tags": []
   },
   "outputs": [],
   "source": [
    "from sklearn.model_selection import train_test_split\n",
    "X_train, X_test, y_train, y_test = train_test_split(X, y, test_size = 0.2, random_state = 42)"
   ]
  },
  {
   "cell_type": "code",
   "execution_count": 15,
   "id": "69ea3f32",
   "metadata": {
    "execution": {
     "iopub.execute_input": "2024-05-11T17:37:47.142039Z",
     "iopub.status.busy": "2024-05-11T17:37:47.141604Z",
     "iopub.status.idle": "2024-05-11T17:37:47.186306Z",
     "shell.execute_reply": "2024-05-11T17:37:47.184384Z"
    },
    "papermill": {
     "duration": 0.06385,
     "end_time": "2024-05-11T17:37:47.189711",
     "exception": false,
     "start_time": "2024-05-11T17:37:47.125861",
     "status": "completed"
    },
    "tags": []
   },
   "outputs": [],
   "source": [
    "from sklearn.preprocessing import StandardScaler\n",
    "\n",
    "scaler = StandardScaler()\n",
    "\n",
    "X_train = pd.DataFrame(scaler.fit_transform(X_train), columns = X.columns)\n",
    "\n",
    "X_test = pd.DataFrame(scaler.transform(X_test), columns = X.columns)"
   ]
  },
  {
   "cell_type": "code",
   "execution_count": 16,
   "id": "ddcb9cd3",
   "metadata": {
    "execution": {
     "iopub.execute_input": "2024-05-11T17:37:47.219685Z",
     "iopub.status.busy": "2024-05-11T17:37:47.219201Z",
     "iopub.status.idle": "2024-05-11T17:37:47.237632Z",
     "shell.execute_reply": "2024-05-11T17:37:47.236209Z"
    },
    "papermill": {
     "duration": 0.036956,
     "end_time": "2024-05-11T17:37:47.240781",
     "exception": false,
     "start_time": "2024-05-11T17:37:47.203825",
     "status": "completed"
    },
    "tags": []
   },
   "outputs": [
    {
     "data": {
      "text/html": [
       "<div>\n",
       "<style scoped>\n",
       "    .dataframe tbody tr th:only-of-type {\n",
       "        vertical-align: middle;\n",
       "    }\n",
       "\n",
       "    .dataframe tbody tr th {\n",
       "        vertical-align: top;\n",
       "    }\n",
       "\n",
       "    .dataframe thead th {\n",
       "        text-align: right;\n",
       "    }\n",
       "</style>\n",
       "<table border=\"1\" class=\"dataframe\">\n",
       "  <thead>\n",
       "    <tr style=\"text-align: right;\">\n",
       "      <th></th>\n",
       "      <th>transaction_qty</th>\n",
       "      <th>store_location</th>\n",
       "      <th>product_category</th>\n",
       "      <th>product_type</th>\n",
       "      <th>product_detail</th>\n",
       "      <th>month</th>\n",
       "      <th>day</th>\n",
       "      <th>year</th>\n",
       "    </tr>\n",
       "  </thead>\n",
       "  <tbody>\n",
       "    <tr>\n",
       "      <th>0</th>\n",
       "      <td>-0.808337</td>\n",
       "      <td>0.022206</td>\n",
       "      <td>1.371238</td>\n",
       "      <td>-0.837675</td>\n",
       "      <td>1.669623</td>\n",
       "      <td>-1.186922</td>\n",
       "      <td>-0.420977</td>\n",
       "      <td>0.0</td>\n",
       "    </tr>\n",
       "    <tr>\n",
       "      <th>1</th>\n",
       "      <td>-0.808337</td>\n",
       "      <td>0.022206</td>\n",
       "      <td>-1.288568</td>\n",
       "      <td>1.622432</td>\n",
       "      <td>-0.951760</td>\n",
       "      <td>0.604794</td>\n",
       "      <td>-1.352233</td>\n",
       "      <td>0.0</td>\n",
       "    </tr>\n",
       "    <tr>\n",
       "      <th>2</th>\n",
       "      <td>2.872549</td>\n",
       "      <td>1.253164</td>\n",
       "      <td>0.041335</td>\n",
       "      <td>0.552820</td>\n",
       "      <td>-0.824919</td>\n",
       "      <td>-1.784161</td>\n",
       "      <td>0.626685</td>\n",
       "      <td>0.0</td>\n",
       "    </tr>\n",
       "    <tr>\n",
       "      <th>3</th>\n",
       "      <td>-0.808337</td>\n",
       "      <td>0.022206</td>\n",
       "      <td>-1.288568</td>\n",
       "      <td>-1.158559</td>\n",
       "      <td>-1.290003</td>\n",
       "      <td>-0.589684</td>\n",
       "      <td>0.859499</td>\n",
       "      <td>0.0</td>\n",
       "    </tr>\n",
       "    <tr>\n",
       "      <th>4</th>\n",
       "      <td>-0.808337</td>\n",
       "      <td>0.022206</td>\n",
       "      <td>-1.288568</td>\n",
       "      <td>1.194587</td>\n",
       "      <td>-1.247723</td>\n",
       "      <td>1.202032</td>\n",
       "      <td>-1.701453</td>\n",
       "      <td>0.0</td>\n",
       "    </tr>\n",
       "  </tbody>\n",
       "</table>\n",
       "</div>"
      ],
      "text/plain": [
       "   transaction_qty  store_location  product_category  product_type  \\\n",
       "0        -0.808337        0.022206          1.371238     -0.837675   \n",
       "1        -0.808337        0.022206         -1.288568      1.622432   \n",
       "2         2.872549        1.253164          0.041335      0.552820   \n",
       "3        -0.808337        0.022206         -1.288568     -1.158559   \n",
       "4        -0.808337        0.022206         -1.288568      1.194587   \n",
       "\n",
       "   product_detail     month       day  year  \n",
       "0        1.669623 -1.186922 -0.420977   0.0  \n",
       "1       -0.951760  0.604794 -1.352233   0.0  \n",
       "2       -0.824919 -1.784161  0.626685   0.0  \n",
       "3       -1.290003 -0.589684  0.859499   0.0  \n",
       "4       -1.247723  1.202032 -1.701453   0.0  "
      ]
     },
     "execution_count": 16,
     "metadata": {},
     "output_type": "execute_result"
    }
   ],
   "source": [
    "X_train.head()"
   ]
  },
  {
   "cell_type": "markdown",
   "id": "bfb2b47e",
   "metadata": {
    "papermill": {
     "duration": 0.01386,
     "end_time": "2024-05-11T17:37:47.269716",
     "exception": false,
     "start_time": "2024-05-11T17:37:47.255856",
     "status": "completed"
    },
    "tags": []
   },
   "source": [
    "# 5. Calculations"
   ]
  },
  {
   "cell_type": "code",
   "execution_count": 17,
   "id": "fc23c9c9",
   "metadata": {
    "execution": {
     "iopub.execute_input": "2024-05-11T17:37:47.300429Z",
     "iopub.status.busy": "2024-05-11T17:37:47.299946Z",
     "iopub.status.idle": "2024-05-11T17:37:48.989293Z",
     "shell.execute_reply": "2024-05-11T17:37:48.987816Z"
    },
    "papermill": {
     "duration": 1.707912,
     "end_time": "2024-05-11T17:37:48.992098",
     "exception": false,
     "start_time": "2024-05-11T17:37:47.284186",
     "status": "completed"
    },
    "tags": []
   },
   "outputs": [
    {
     "name": "stdout",
     "output_type": "stream",
     "text": [
      "accuracy: 1.0\n"
     ]
    }
   ],
   "source": [
    "from sklearn.model_selection import train_test_split\n",
    "from sklearn.metrics import accuracy_score\n",
    "from sklearn.ensemble import RandomForestClassifier\n",
    "X = df.drop('year', axis=1)  # we will not use the 'year' column as a target variable\n",
    "y = df['year']\n",
    "\n",
    "# Dividing data into training and testing sets\n",
    "X_train, X_test, y_train, y_test = train_test_split(X, y, test_size=0.2, random_state=42)\n",
    "\n",
    "# Scaling data with standard scaling (StandardScaler)\n",
    "scaler = StandardScaler()\n",
    "X_train_scaled = scaler.fit_transform(X_train)\n",
    "X_test_scaled = scaler.transform(X_test)\n",
    "\n",
    "# Create and train the RandomForestClassifier model\n",
    "model = RandomForestClassifier()\n",
    "model.fit(X_train_scaled, y_train)\n",
    "\n",
    "# Make predictions using the model\n",
    "predictions = model.predict(X_test_scaled)\n",
    "\n",
    "# Calculate accuracy score\n",
    "accuracy = accuracy_score(y_test, predictions)\n",
    "print(\"accuracy:\", accuracy)"
   ]
  },
  {
   "cell_type": "code",
   "execution_count": 18,
   "id": "b73c7284",
   "metadata": {
    "execution": {
     "iopub.execute_input": "2024-05-11T17:37:49.023006Z",
     "iopub.status.busy": "2024-05-11T17:37:49.022501Z",
     "iopub.status.idle": "2024-05-11T17:37:49.037216Z",
     "shell.execute_reply": "2024-05-11T17:37:49.035836Z"
    },
    "papermill": {
     "duration": 0.033257,
     "end_time": "2024-05-11T17:37:49.039832",
     "exception": false,
     "start_time": "2024-05-11T17:37:49.006575",
     "status": "completed"
    },
    "tags": []
   },
   "outputs": [
    {
     "data": {
      "text/html": [
       "<div>\n",
       "<style scoped>\n",
       "    .dataframe tbody tr th:only-of-type {\n",
       "        vertical-align: middle;\n",
       "    }\n",
       "\n",
       "    .dataframe tbody tr th {\n",
       "        vertical-align: top;\n",
       "    }\n",
       "\n",
       "    .dataframe thead th {\n",
       "        text-align: right;\n",
       "    }\n",
       "</style>\n",
       "<table border=\"1\" class=\"dataframe\">\n",
       "  <thead>\n",
       "    <tr style=\"text-align: right;\">\n",
       "      <th></th>\n",
       "      <th>Actual Values</th>\n",
       "      <th>Estimated Values</th>\n",
       "    </tr>\n",
       "  </thead>\n",
       "  <tbody>\n",
       "    <tr>\n",
       "      <th>116605</th>\n",
       "      <td>2023</td>\n",
       "      <td>2023</td>\n",
       "    </tr>\n",
       "    <tr>\n",
       "      <th>119259</th>\n",
       "      <td>2023</td>\n",
       "      <td>2023</td>\n",
       "    </tr>\n",
       "    <tr>\n",
       "      <th>105265</th>\n",
       "      <td>2023</td>\n",
       "      <td>2023</td>\n",
       "    </tr>\n",
       "    <tr>\n",
       "      <th>29485</th>\n",
       "      <td>2023</td>\n",
       "      <td>2023</td>\n",
       "    </tr>\n",
       "    <tr>\n",
       "      <th>126885</th>\n",
       "      <td>2023</td>\n",
       "      <td>2023</td>\n",
       "    </tr>\n",
       "    <tr>\n",
       "      <th>...</th>\n",
       "      <td>...</td>\n",
       "      <td>...</td>\n",
       "    </tr>\n",
       "    <tr>\n",
       "      <th>40034</th>\n",
       "      <td>2023</td>\n",
       "      <td>2023</td>\n",
       "    </tr>\n",
       "    <tr>\n",
       "      <th>109854</th>\n",
       "      <td>2023</td>\n",
       "      <td>2023</td>\n",
       "    </tr>\n",
       "    <tr>\n",
       "      <th>84119</th>\n",
       "      <td>2023</td>\n",
       "      <td>2023</td>\n",
       "    </tr>\n",
       "    <tr>\n",
       "      <th>119722</th>\n",
       "      <td>2023</td>\n",
       "      <td>2023</td>\n",
       "    </tr>\n",
       "    <tr>\n",
       "      <th>24523</th>\n",
       "      <td>2023</td>\n",
       "      <td>2023</td>\n",
       "    </tr>\n",
       "  </tbody>\n",
       "</table>\n",
       "<p>29824 rows × 2 columns</p>\n",
       "</div>"
      ],
      "text/plain": [
       "        Actual Values  Estimated Values\n",
       "116605           2023              2023\n",
       "119259           2023              2023\n",
       "105265           2023              2023\n",
       "29485            2023              2023\n",
       "126885           2023              2023\n",
       "...               ...               ...\n",
       "40034            2023              2023\n",
       "109854           2023              2023\n",
       "84119            2023              2023\n",
       "119722           2023              2023\n",
       "24523            2023              2023\n",
       "\n",
       "[29824 rows x 2 columns]"
      ]
     },
     "execution_count": 18,
     "metadata": {},
     "output_type": "execute_result"
    }
   ],
   "source": [
    "predictions_df = pd.DataFrame({'Actual Values': y_test, 'Estimated Values': predictions})\n",
    "predictions_df"
   ]
  },
  {
   "cell_type": "code",
   "execution_count": 19,
   "id": "d7aa5faa",
   "metadata": {
    "execution": {
     "iopub.execute_input": "2024-05-11T17:37:49.071786Z",
     "iopub.status.busy": "2024-05-11T17:37:49.071371Z",
     "iopub.status.idle": "2024-05-11T17:37:49.086881Z",
     "shell.execute_reply": "2024-05-11T17:37:49.085593Z"
    },
    "papermill": {
     "duration": 0.034643,
     "end_time": "2024-05-11T17:37:49.089555",
     "exception": false,
     "start_time": "2024-05-11T17:37:49.054912",
     "status": "completed"
    },
    "tags": []
   },
   "outputs": [
    {
     "data": {
      "text/html": [
       "<div>\n",
       "<style scoped>\n",
       "    .dataframe tbody tr th:only-of-type {\n",
       "        vertical-align: middle;\n",
       "    }\n",
       "\n",
       "    .dataframe tbody tr th {\n",
       "        vertical-align: top;\n",
       "    }\n",
       "\n",
       "    .dataframe thead th {\n",
       "        text-align: right;\n",
       "    }\n",
       "</style>\n",
       "<table border=\"1\" class=\"dataframe\">\n",
       "  <thead>\n",
       "    <tr style=\"text-align: right;\">\n",
       "      <th></th>\n",
       "      <th>transaction_qty</th>\n",
       "      <th>store_location</th>\n",
       "      <th>unit_price</th>\n",
       "      <th>product_category</th>\n",
       "      <th>product_type</th>\n",
       "      <th>product_detail</th>\n",
       "      <th>year</th>\n",
       "      <th>month</th>\n",
       "      <th>day</th>\n",
       "    </tr>\n",
       "  </thead>\n",
       "  <tbody>\n",
       "    <tr>\n",
       "      <th>0</th>\n",
       "      <td>2</td>\n",
       "      <td>2</td>\n",
       "      <td>3.0</td>\n",
       "      <td>2</td>\n",
       "      <td>13</td>\n",
       "      <td>32</td>\n",
       "      <td>2023</td>\n",
       "      <td>1</td>\n",
       "      <td>1</td>\n",
       "    </tr>\n",
       "    <tr>\n",
       "      <th>1</th>\n",
       "      <td>2</td>\n",
       "      <td>2</td>\n",
       "      <td>3.1</td>\n",
       "      <td>8</td>\n",
       "      <td>4</td>\n",
       "      <td>71</td>\n",
       "      <td>2023</td>\n",
       "      <td>1</td>\n",
       "      <td>1</td>\n",
       "    </tr>\n",
       "    <tr>\n",
       "      <th>2</th>\n",
       "      <td>2</td>\n",
       "      <td>2</td>\n",
       "      <td>4.5</td>\n",
       "      <td>4</td>\n",
       "      <td>17</td>\n",
       "      <td>20</td>\n",
       "      <td>2023</td>\n",
       "      <td>1</td>\n",
       "      <td>1</td>\n",
       "    </tr>\n",
       "    <tr>\n",
       "      <th>3</th>\n",
       "      <td>1</td>\n",
       "      <td>2</td>\n",
       "      <td>2.0</td>\n",
       "      <td>2</td>\n",
       "      <td>10</td>\n",
       "      <td>60</td>\n",
       "      <td>2023</td>\n",
       "      <td>1</td>\n",
       "      <td>1</td>\n",
       "    </tr>\n",
       "    <tr>\n",
       "      <th>4</th>\n",
       "      <td>2</td>\n",
       "      <td>2</td>\n",
       "      <td>3.1</td>\n",
       "      <td>8</td>\n",
       "      <td>4</td>\n",
       "      <td>71</td>\n",
       "      <td>2023</td>\n",
       "      <td>1</td>\n",
       "      <td>1</td>\n",
       "    </tr>\n",
       "  </tbody>\n",
       "</table>\n",
       "</div>"
      ],
      "text/plain": [
       "   transaction_qty  store_location  unit_price  product_category  \\\n",
       "0                2               2         3.0                 2   \n",
       "1                2               2         3.1                 8   \n",
       "2                2               2         4.5                 4   \n",
       "3                1               2         2.0                 2   \n",
       "4                2               2         3.1                 8   \n",
       "\n",
       "   product_type  product_detail  year  month  day  \n",
       "0            13              32  2023      1    1  \n",
       "1             4              71  2023      1    1  \n",
       "2            17              20  2023      1    1  \n",
       "3            10              60  2023      1    1  \n",
       "4             4              71  2023      1    1  "
      ]
     },
     "execution_count": 19,
     "metadata": {},
     "output_type": "execute_result"
    }
   ],
   "source": [
    "df.head()"
   ]
  },
  {
   "cell_type": "code",
   "execution_count": 20,
   "id": "4bf5243e",
   "metadata": {
    "execution": {
     "iopub.execute_input": "2024-05-11T17:37:49.122200Z",
     "iopub.status.busy": "2024-05-11T17:37:49.121753Z",
     "iopub.status.idle": "2024-05-11T17:38:00.791158Z",
     "shell.execute_reply": "2024-05-11T17:38:00.789767Z"
    },
    "papermill": {
     "duration": 11.689906,
     "end_time": "2024-05-11T17:38:00.794558",
     "exception": false,
     "start_time": "2024-05-11T17:37:49.104652",
     "status": "completed"
    },
    "tags": []
   },
   "outputs": [
    {
     "name": "stdout",
     "output_type": "stream",
     "text": [
      "Mean Square Error (MSE): 0.023184668521447363\n",
      "Mean Absolute Error (MAE): 0.007299912030424577\n",
      "Mean Absolute Percentage Error (MAPE): 0.0020000806351013548\n",
      "Root Mean Square Error (RMSE): 0.15226512575585838\n"
     ]
    }
   ],
   "source": [
    "from sklearn.ensemble import RandomForestRegressor\n",
    "from sklearn.metrics import mean_squared_error\n",
    "from sklearn.metrics import mean_absolute_error, mean_absolute_percentage_error, mean_squared_error\n",
    "\n",
    "X = df.drop('unit_price', axis=1)\n",
    "y = df['unit_price']\n",
    "\n",
    "# Split the data into training and testing sets\n",
    "X_train, X_test, y_train, y_test = train_test_split(X, y, test_size=0.2, random_state=42)\n",
    "\n",
    "# Create and train the RandomForestRegressor model\n",
    "model = RandomForestRegressor()\n",
    "model.fit(X_train, y_train)\n",
    "\n",
    "# Make predictions using the model\n",
    "predictions = model.predict(X_test)\n",
    "\n",
    "# Calculating Mean Squared Error (MSE)\n",
    "mse = mean_squared_error(y_test, predictions)\n",
    "print(\"Mean Square Error (MSE):\", mse)\n",
    "\n",
    "# Mean Absolute Error (MAE)\n",
    "mae = mean_absolute_error(y_test, predictions)\n",
    "print(\"Mean Absolute Error (MAE):\", mae)\n",
    "\n",
    "# Mean Absolute Percentage Error (MAPE)\n",
    "mape = mean_absolute_percentage_error(y_test, predictions)\n",
    "print(\"Mean Absolute Percentage Error (MAPE):\", mape)\n",
    "\n",
    "# Root Mean Square Error (RMSE)\n",
    "rmse = mean_squared_error(y_test, predictions, squared=False)\n",
    "print(\"Root Mean Square Error (RMSE):\", rmse)"
   ]
  },
  {
   "cell_type": "code",
   "execution_count": 21,
   "id": "96f2d9cd",
   "metadata": {
    "execution": {
     "iopub.execute_input": "2024-05-11T17:38:00.829740Z",
     "iopub.status.busy": "2024-05-11T17:38:00.828872Z",
     "iopub.status.idle": "2024-05-11T17:38:00.847825Z",
     "shell.execute_reply": "2024-05-11T17:38:00.846534Z"
    },
    "papermill": {
     "duration": 0.03954,
     "end_time": "2024-05-11T17:38:00.850537",
     "exception": false,
     "start_time": "2024-05-11T17:38:00.810997",
     "status": "completed"
    },
    "tags": []
   },
   "outputs": [
    {
     "data": {
      "text/html": [
       "<div>\n",
       "<style scoped>\n",
       "    .dataframe tbody tr th:only-of-type {\n",
       "        vertical-align: middle;\n",
       "    }\n",
       "\n",
       "    .dataframe tbody tr th {\n",
       "        vertical-align: top;\n",
       "    }\n",
       "\n",
       "    .dataframe thead th {\n",
       "        text-align: right;\n",
       "    }\n",
       "</style>\n",
       "<table border=\"1\" class=\"dataframe\">\n",
       "  <thead>\n",
       "    <tr style=\"text-align: right;\">\n",
       "      <th></th>\n",
       "      <th>Actual Values</th>\n",
       "      <th>Estimated Values</th>\n",
       "    </tr>\n",
       "  </thead>\n",
       "  <tbody>\n",
       "    <tr>\n",
       "      <th>116605</th>\n",
       "      <td>3.75</td>\n",
       "      <td>3.75</td>\n",
       "    </tr>\n",
       "    <tr>\n",
       "      <th>119259</th>\n",
       "      <td>3.75</td>\n",
       "      <td>3.75</td>\n",
       "    </tr>\n",
       "    <tr>\n",
       "      <th>105265</th>\n",
       "      <td>3.00</td>\n",
       "      <td>3.00</td>\n",
       "    </tr>\n",
       "    <tr>\n",
       "      <th>29485</th>\n",
       "      <td>3.75</td>\n",
       "      <td>3.75</td>\n",
       "    </tr>\n",
       "    <tr>\n",
       "      <th>126885</th>\n",
       "      <td>3.75</td>\n",
       "      <td>3.75</td>\n",
       "    </tr>\n",
       "    <tr>\n",
       "      <th>...</th>\n",
       "      <td>...</td>\n",
       "      <td>...</td>\n",
       "    </tr>\n",
       "    <tr>\n",
       "      <th>40034</th>\n",
       "      <td>4.00</td>\n",
       "      <td>4.00</td>\n",
       "    </tr>\n",
       "    <tr>\n",
       "      <th>109854</th>\n",
       "      <td>0.80</td>\n",
       "      <td>0.80</td>\n",
       "    </tr>\n",
       "    <tr>\n",
       "      <th>84119</th>\n",
       "      <td>3.00</td>\n",
       "      <td>3.00</td>\n",
       "    </tr>\n",
       "    <tr>\n",
       "      <th>119722</th>\n",
       "      <td>3.75</td>\n",
       "      <td>3.75</td>\n",
       "    </tr>\n",
       "    <tr>\n",
       "      <th>24523</th>\n",
       "      <td>3.25</td>\n",
       "      <td>3.25</td>\n",
       "    </tr>\n",
       "  </tbody>\n",
       "</table>\n",
       "<p>29824 rows × 2 columns</p>\n",
       "</div>"
      ],
      "text/plain": [
       "        Actual Values  Estimated Values\n",
       "116605           3.75              3.75\n",
       "119259           3.75              3.75\n",
       "105265           3.00              3.00\n",
       "29485            3.75              3.75\n",
       "126885           3.75              3.75\n",
       "...               ...               ...\n",
       "40034            4.00              4.00\n",
       "109854           0.80              0.80\n",
       "84119            3.00              3.00\n",
       "119722           3.75              3.75\n",
       "24523            3.25              3.25\n",
       "\n",
       "[29824 rows x 2 columns]"
      ]
     },
     "execution_count": 21,
     "metadata": {},
     "output_type": "execute_result"
    }
   ],
   "source": [
    "predictions_df2 = pd.DataFrame({'Actual Values': y_test, 'Estimated Values': predictions})\n",
    "predictions_df2"
   ]
  },
  {
   "cell_type": "code",
   "execution_count": 22,
   "id": "1e3e1ee3",
   "metadata": {
    "execution": {
     "iopub.execute_input": "2024-05-11T17:38:00.887770Z",
     "iopub.status.busy": "2024-05-11T17:38:00.887185Z",
     "iopub.status.idle": "2024-05-11T17:38:00.897775Z",
     "shell.execute_reply": "2024-05-11T17:38:00.896430Z"
    },
    "papermill": {
     "duration": 0.030931,
     "end_time": "2024-05-11T17:38:00.900794",
     "exception": false,
     "start_time": "2024-05-11T17:38:00.869863",
     "status": "completed"
    },
    "tags": []
   },
   "outputs": [],
   "source": [
    "clf=pd.DataFrame(predictions).value_counts()"
   ]
  },
  {
   "cell_type": "markdown",
   "id": "8a90a3a9",
   "metadata": {
    "papermill": {
     "duration": 0.015607,
     "end_time": "2024-05-11T17:38:00.931600",
     "exception": false,
     "start_time": "2024-05-11T17:38:00.915993",
     "status": "completed"
    },
    "tags": []
   },
   "source": [
    "# 6. Visualizations"
   ]
  },
  {
   "cell_type": "code",
   "execution_count": 23,
   "id": "77855c06",
   "metadata": {
    "execution": {
     "iopub.execute_input": "2024-05-11T17:38:00.966479Z",
     "iopub.status.busy": "2024-05-11T17:38:00.965426Z",
     "iopub.status.idle": "2024-05-11T17:38:01.901429Z",
     "shell.execute_reply": "2024-05-11T17:38:01.900121Z"
    },
    "papermill": {
     "duration": 0.955928,
     "end_time": "2024-05-11T17:38:01.904126",
     "exception": false,
     "start_time": "2024-05-11T17:38:00.948198",
     "status": "completed"
    },
    "tags": []
   },
   "outputs": [
    {
     "data": {
      "image/png": "[encoded data removed]",
      "text/plain": [
       "<Figure size 1000x600 with 1 Axes>"
      ]
     },
     "metadata": {},
     "output_type": "display_data"
    }
   ],
   "source": [
    "import matplotlib.pyplot as plt\n",
    "\n",
    "clf = pd.DataFrame(predictions, columns=[\"forecast\"]).value_counts().reset_index()\n",
    "clf.columns = [\"forecast\", \"Frequency\"]\n",
    "\n",
    "# Draw a bar chart\n",
    "plt.figure(figsize=(10, 6))\n",
    "plt.bar(clf[\"forecast\"], clf[\"Frequency\"], color='blue')\n",
    "plt.xlabel(\"Forecasts\")\n",
    "plt.ylabel(\"Frequencies\")\n",
    "plt.title(\"Frequencies of Predictive Values\")\n",
    "plt.xticks(rotation=45)\n",
    "plt.grid(axis='y', linestyle='--', alpha=0.7)\n",
    "plt.show()"
   ]
  },
  {
   "cell_type": "code",
   "execution_count": 24,
   "id": "f78776f5",
   "metadata": {
    "execution": {
     "iopub.execute_input": "2024-05-11T17:38:01.938977Z",
     "iopub.status.busy": "2024-05-11T17:38:01.938541Z",
     "iopub.status.idle": "2024-05-11T17:38:03.646058Z",
     "shell.execute_reply": "2024-05-11T17:38:03.644683Z"
    },
    "papermill": {
     "duration": 1.728512,
     "end_time": "2024-05-11T17:38:03.648727",
     "exception": false,
     "start_time": "2024-05-11T17:38:01.920215",
     "status": "completed"
    },
    "tags": []
   },
   "outputs": [
    {
     "name": "stdout",
     "output_type": "stream",
     "text": [
      "year\n",
      "\n"
     ]
    },
    {
     "name": "stderr",
     "output_type": "stream",
     "text": [
      "/opt/conda/lib/python3.10/site-packages/seaborn/categorical.py:645: FutureWarning: When grouping with a length-1 list-like, you will need to pass a length-1 tuple to get_group in a future version of pandas. Pass `(name,)` instead of `name` to silence this warning.\n",
      "  g_vals = grouped_vals.get_group(g)\n"
     ]
    },
    {
     "data": {
      "image/png": "[encoded data removed]",
      "text/plain": [
       "<Figure size 640x480 with 1 Axes>"
      ]
     },
     "metadata": {},
     "output_type": "display_data"
    },
    {
     "name": "stdout",
     "output_type": "stream",
     "text": [
      "month\n",
      "\n"
     ]
    },
    {
     "data": {
      "image/png": "[encoded data removed]",
      "text/plain": [
       "<Figure size 640x480 with 1 Axes>"
      ]
     },
     "metadata": {},
     "output_type": "display_data"
    },
    {
     "name": "stdout",
     "output_type": "stream",
     "text": [
      "day\n",
      "\n"
     ]
    },
    {
     "data": {
      "image/png": "[encoded data removed]",
      "text/plain": [
       "<Figure size 640x480 with 1 Axes>"
      ]
     },
     "metadata": {},
     "output_type": "display_data"
    }
   ],
   "source": [
    "import seaborn as sns\n",
    "categ_col = df.select_dtypes(include = ['int32']).columns\n",
    "categ_col\n",
    "for col in categ_col:\n",
    "    print(f\"{col}\\n\")\n",
    "    labels = df[col].unique()\n",
    "    prices=[]\n",
    "    for label in labels: \n",
    "          price = df.loc[df[col] == label,'month'].mean()\n",
    "          prices.append(price)\n",
    "    sns.barplot(x = labels,y = prices)\n",
    "    plt.title(f\"Average Sale Price for different values in {col} column\")\n",
    "    plt.xlabel(col)\n",
    "    plt.ylabel('Average Sale Price')\n",
    "    plt.xticks(rotation = 90)\n",
    "    plt.tight_layout()\n",
    "    plt.show()"
   ]
  },
  {
   "cell_type": "markdown",
   "id": "8e1d6f72",
   "metadata": {
    "papermill": {
     "duration": 0.01694,
     "end_time": "2024-05-11T17:38:03.683127",
     "exception": false,
     "start_time": "2024-05-11T17:38:03.666187",
     "status": "completed"
    },
    "tags": []
   },
   "source": [
    "# 7. Result"
   ]
  },
  {
   "cell_type": "markdown",
   "id": "f0afa287",
   "metadata": {
    "papermill": {
     "duration": 0.017008,
     "end_time": "2024-05-11T17:38:03.717675",
     "exception": false,
     "start_time": "2024-05-11T17:38:03.700667",
     "status": "completed"
    },
    "tags": []
   },
   "source": [
    "**1- Mean Squared Error (MSE): The MSE value of 0.0232 indicates that, on average, the squared difference between the actual and predicted values is approximately 0.0232. Since MSE is a measure of the average squared difference, lower values imply better model performance. In this case, the relatively low MSE suggests that the model's predictions are generally close to the actual values.**\n",
    "\n",
    "**2- Mean Absolute Error (MAE): With an MAE of 0.0073, it means that, on average, the absolute difference between the actual and predicted values is around 0.0073. MAE is less sensitive to outliers compared to MSE because it does not involve squaring the errors. Therefore, a low MAE indicates that the model's predictions are, on average, close to the actual values.**\n",
    "\n",
    "**3- Mean Absolute Percentage Error (MAPE): The MAPE value of 0.0020 indicates that, on average, the percentage difference between the actual and predicted values is approximately 0.2%. MAPE is particularly useful for understanding the accuracy of predictions relative to the actual values. A lower MAPE suggests that the model's predictions are closer to the actual values, with 0 being a perfect score.**\n",
    "\n",
    "**4- Root Mean Square Error (RMSE): The RMSE value of 0.1524 is the square root of the MSE. It provides a measure of the average magnitude of the errors in the predicted values. Like MSE, lower RMSE values indicate better model performance. In this case, the relatively low RMSE further confirms that the model's predictions are generally accurate.**\n",
    "\n",
    "**Overall, based on these metrics, it appears that the model performs well in predicting the target variable, as indicated by the low values of MSE, MAE, MAPE, and RMSE. However, it's essential to consider the specific context of the problem and the domain to determine whether these performance metrics meet the desired criteria for model accuracy.**"
   ]
  },
  {
   "cell_type": "markdown",
   "id": "efdda090",
   "metadata": {
    "papermill": {
     "duration": 0.017454,
     "end_time": "2024-05-11T17:38:03.752545",
     "exception": false,
     "start_time": "2024-05-11T17:38:03.735091",
     "status": "completed"
    },
    "tags": []
   },
   "source": [
    "![](https://media.giphy.com/media/smaaKxR6ZrQYQxHFfA/giphy.gif?cid=ecf05e47avon9bc048yc6fr5t97v7txhq665j27tfshgt6zu&ep=v1_gifs_search&rid=giphy.gif&ct=g)"
   ]
  },
  {
   "cell_type": "markdown",
   "id": "a00994fd",
   "metadata": {
    "papermill": {
     "duration": 0.016984,
     "end_time": "2024-05-11T17:38:03.787030",
     "exception": false,
     "start_time": "2024-05-11T17:38:03.770046",
     "status": "completed"
    },
    "tags": []
   },
   "source": [
    "**🙏Thanks For Inspecting My Project🙏**"
   ]
  }
 ],
 "metadata": {
  "kaggle": {
   "accelerator": "none",
   "dataSources": [
    {
     "datasetId": 4919446,
     "sourceId": 8283057,
     "sourceType": "datasetVersion"
    }
   ],
   "dockerImageVersionId": 30698,
   "isGpuEnabled": false,
   "isInternetEnabled": true,
   "language": "python",
   "sourceType": "notebook"
  },
  "kernelspec": {
   "display_name": "Python 3",
   "language": "python",
   "name": "python3"
  },
  "language_info": {
   "codemirror_mode": {
    "name": "ipython",
    "version": 3
   },
   "file_extension": ".py",
   "mimetype": "text/x-python",
   "name": "python",
   "nbconvert_exporter": "python",
   "pygments_lexer": "ipython3",
   "version": "3.10.13"
  },
  "papermill": {
   "default_parameters": {},
   "duration": 64.541632,
   "end_time": "2024-05-11T17:38:04.628730",
   "environment_variables": {},
   "exception": null,
   "input_path": "__notebook__.ipynb",
   "output_path": "__notebook__.ipynb",
   "parameters": {},
   "start_time": "2024-05-11T17:37:00.087098",
   "version": "2.5.0"
  }
 },
 "nbformat": 4,
 "nbformat_minor": 5
}
